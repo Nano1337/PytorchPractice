{
  "nbformat": 4,
  "nbformat_minor": 0,
  "metadata": {
    "colab": {
      "name": "PyTorch 60 min Blitz.ipynb",
      "provenance": [],
      "authorship_tag": "ABX9TyOyAsBR3OcD2cHSVLIV9kdm",
      "include_colab_link": true
    },
    "kernelspec": {
      "name": "python3",
      "display_name": "Python 3"
    },
    "language_info": {
      "name": "python"
    },
    "accelerator": "GPU",
    "gpuClass": "standard"
  },
  "cells": [
    {
      "cell_type": "markdown",
      "metadata": {
        "id": "view-in-github",
        "colab_type": "text"
      },
      "source": [
        "<a href=\"https://colab.research.google.com/github/Nano1337/PytorchPractice/blob/main/PyTorch_60_min_Blitz.ipynb\" target=\"_parent\"><img src=\"https://colab.research.google.com/assets/colab-badge.svg\" alt=\"Open In Colab\"/></a>"
      ]
    },
    {
      "cell_type": "markdown",
      "source": [
        "Include Dependencies"
      ],
      "metadata": {
        "id": "f3dtPiPVEMKh"
      }
    },
    {
      "cell_type": "code",
      "execution_count": 1,
      "metadata": {
        "id": "aMU_0kYKD8M5"
      },
      "outputs": [],
      "source": [
        "import torch\n",
        "import numpy as np"
      ]
    },
    {
      "cell_type": "markdown",
      "source": [
        "# Tensor Basics"
      ],
      "metadata": {
        "id": "DwE7KxkkTVo_"
      }
    },
    {
      "cell_type": "markdown",
      "source": [
        "Tensors"
      ],
      "metadata": {
        "id": "EkoqN3rKET16"
      }
    },
    {
      "cell_type": "code",
      "source": [
        "# creating from data\n",
        "data = [[1, 2], [3, 4]]\n",
        "x_data = torch.tensor(data)\n",
        "\n",
        "# create from numpy array\n",
        "np_array = np.array(data)\n",
        "x_np = torch.from_numpy(np_array)\n",
        "\n",
        "# inherit dimensions from other tensors\n",
        "x_ones = torch.ones_like(x_data)\n",
        "x_rand = torch.rand_like(x_data, dtype=torch.float)\n",
        "\n",
        "# declare tensor with specified shape just like in numpy \n",
        "# get shape, datatype, and device tensor is located on"
      ],
      "metadata": {
        "id": "7D3IBJTjEL3_"
      },
      "execution_count": 10,
      "outputs": []
    },
    {
      "cell_type": "markdown",
      "source": [
        "Tensor operations"
      ],
      "metadata": {
        "id": "shu4NwqcHNUS"
      }
    },
    {
      "cell_type": "code",
      "source": [
        "tensor = torch.ones((2, 3))\n",
        "# move tensor to GPU if available\n",
        "if torch.cuda.is_available():\n",
        "  tensor = tensor.to('cuda')\n",
        "  print(f\"Device tensor is stored on: {tensor.device}\")\n",
        "\n",
        "# note that tensor and numpy array share memory (pass by reference)"
      ],
      "metadata": {
        "colab": {
          "base_uri": "https://localhost:8080/"
        },
        "id": "pF-DJO3yHMqx",
        "outputId": "173f11a5-f07b-40e1-c523-ed809f55ff22"
      },
      "execution_count": 3,
      "outputs": [
        {
          "output_type": "stream",
          "name": "stdout",
          "text": [
            "Device tensor is stored on: cuda:0\n"
          ]
        }
      ]
    },
    {
      "cell_type": "markdown",
      "source": [
        "# Autograd"
      ],
      "metadata": {
        "id": "SSP_QaTrTTsu"
      }
    },
    {
      "cell_type": "markdown",
      "source": [
        "Run single pass through resnet18"
      ],
      "metadata": {
        "id": "OQi9PgJQOmfQ"
      }
    },
    {
      "cell_type": "code",
      "source": [
        "import torch, torchvision\n",
        "model = torchvision.models.resnet18(pretrained=True)\n",
        "data = torch.rand(1, 3, 64, 64)\n",
        "labels = torch.rand(1, 1000)"
      ],
      "metadata": {
        "colab": {
          "base_uri": "https://localhost:8080/"
        },
        "id": "y-1PxpVlOq05",
        "outputId": "b3bfdd4c-7728-442c-8a0b-3514cbfe1dd0"
      },
      "execution_count": 5,
      "outputs": [
        {
          "output_type": "stream",
          "name": "stderr",
          "text": [
            "/usr/local/lib/python3.7/dist-packages/torchvision/models/_utils.py:209: UserWarning: The parameter 'pretrained' is deprecated since 0.13 and will be removed in 0.15, please use 'weights' instead.\n",
            "  f\"The parameter '{pretrained_param}' is deprecated since 0.13 and will be removed in 0.15, \"\n",
            "/usr/local/lib/python3.7/dist-packages/torchvision/models/_utils.py:223: UserWarning: Arguments other than a weight enum or `None` for 'weights' are deprecated since 0.13 and will be removed in 0.15. The current behavior is equivalent to passing `weights=ResNet18_Weights.IMAGENET1K_V1`. You can also use `weights=ResNet18_Weights.DEFAULT` to get the most up-to-date weights.\n",
            "  warnings.warn(msg)\n"
          ]
        }
      ]
    },
    {
      "cell_type": "code",
      "source": [
        "# run a forward pass\n",
        "prediction = model(data)\n",
        "\n",
        "# loss function is sum of all the losses\n",
        "loss = (prediction - labels).sum()\n",
        "\n",
        "# run a backward pass\n",
        "loss.backward()"
      ],
      "metadata": {
        "id": "YvoTaBoXO4LT"
      },
      "execution_count": 6,
      "outputs": []
    },
    {
      "cell_type": "code",
      "source": [
        "# load SGD optimizer\n",
        "optim = torch.optim.SGD(model.parameters(), lr=1e-2, momentum=0.9)\n",
        "\n",
        "# initiate gradient descent\n",
        "optim.step()"
      ],
      "metadata": {
        "id": "CVXVtwGuPs67"
      },
      "execution_count": 7,
      "outputs": []
    },
    {
      "cell_type": "markdown",
      "source": [
        "How autograd collections gradients"
      ],
      "metadata": {
        "id": "bhBoODcHQ1lT"
      }
    },
    {
      "cell_type": "code",
      "source": [
        "# explicitly state that tensor must track gradients (also stored in same variable)\n",
        "a = torch.tensor([2., 3.], requires_grad=True)\n",
        "b = torch.tensor([6., 4.], requires_grad=True)\n",
        "\n",
        "# find gradients of this equation with respect to a and b\n",
        "Q = 3*a**3 - b**2\n",
        "\n",
        "# automatically calculate both gradients at once\n",
        "external_grad = torch.tensor([1., 1.])\n",
        "Q.backward(gradient=external_grad)\n",
        "\n"
      ],
      "metadata": {
        "id": "GT-26rLOQ1F4"
      },
      "execution_count": 9,
      "outputs": []
    },
    {
      "cell_type": "code",
      "source": [
        "# NOTE: explicitly setting requires_grad=False is useful for freezing parameters during fine tuning\n",
        "from torch import nn, optim\n",
        "\n",
        "model = torchvision.models.resnet18(pretrained=True)\n",
        "\n",
        "# Freeze all parameters in network\n",
        "for param in model.parameters():\n",
        "  param.requires_grad = False\n",
        "\n",
        "# create non-frozen fully connected last layer as classifier for 10 class outputs\n",
        "model.fc = nn.Linear(512, 10) \n",
        "\n",
        "# optimize only the classifier\n",
        "optimizer = optim.SGD(model.parameters(), lr=1e-2, momentum=0.9)\n",
        "optimizer.step()"
      ],
      "metadata": {
        "colab": {
          "base_uri": "https://localhost:8080/"
        },
        "id": "CNStdsv_SMK2",
        "outputId": "68bcca91-a691-49da-e50d-f62d8e39fc83"
      },
      "execution_count": 11,
      "outputs": [
        {
          "output_type": "stream",
          "name": "stderr",
          "text": [
            "/usr/local/lib/python3.7/dist-packages/torchvision/models/_utils.py:209: UserWarning: The parameter 'pretrained' is deprecated since 0.13 and will be removed in 0.15, please use 'weights' instead.\n",
            "  f\"The parameter '{pretrained_param}' is deprecated since 0.13 and will be removed in 0.15, \"\n",
            "/usr/local/lib/python3.7/dist-packages/torchvision/models/_utils.py:223: UserWarning: Arguments other than a weight enum or `None` for 'weights' are deprecated since 0.13 and will be removed in 0.15. The current behavior is equivalent to passing `weights=ResNet18_Weights.IMAGENET1K_V1`. You can also use `weights=ResNet18_Weights.DEFAULT` to get the most up-to-date weights.\n",
            "  warnings.warn(msg)\n"
          ]
        }
      ]
    },
    {
      "cell_type": "markdown",
      "source": [
        "# Neural Networks"
      ],
      "metadata": {
        "id": "K2-z7k8oTYa9"
      }
    },
    {
      "cell_type": "markdown",
      "source": [
        "Typical process for training a neural network: \n",
        "\n",
        "\n",
        "1.   Architecture: define the neural network (learnable params) \n",
        "2.   Batching: iterate over dataset of inputs\n",
        "3.   Forward pass: process input through network\n",
        "4.   Loss computation\n",
        "5.   Backprop into network's params\n",
        "6.   Update the weights using simple run: weight -= lr*gradient\n",
        "\n"
      ],
      "metadata": {
        "id": "S8nitPk0UEiB"
      }
    },
    {
      "cell_type": "code",
      "source": [
        "''' Define Architecture, Batching, and Forward Pass '''\n",
        "\n",
        "import torch\n",
        "import torch.nn as nn\n",
        "import torch.nn.functional as F\n",
        "\n",
        "class Net(nn.Module):\n",
        "\n",
        "  # define layers in ctor\n",
        "  def __init__(self):\n",
        "    super(Net, self).__init__()\n",
        "    \n",
        "    # 1 input image channel (grayscale), 6 output channels, 5x5 square convolution\n",
        "    self.conv1 = nn.Conv2d(1, 6, 5)\n",
        "    self.conv2 = nn.Conv2d(6, 16, 5)\n",
        "    self.fc1 = nn.Linear(16*5*5, 120) # 5x5 from image dimension bc fc is flattened\n",
        "    self.fc2 = nn.Linear(120, 84)\n",
        "    self.fc3 = nn.Linear(84, 10)\n",
        "  \n",
        "  # define forward pass (activation functions), backward prop handled by autograd\n",
        "  def forward(self, x):\n",
        "    # max pooling over a (2, 2) window\n",
        "    x = F.max_pool2d(F.relu(self.conv1(x)), (2, 2))\n",
        "    # if size is square, you can specify with a single number\n",
        "    x = F.max_pool2d(F.relu(self.conv2(x)), 2)\n",
        "    x = torch.flatten(x, 1) # flatten all dim except batch dim\n",
        "    x = F.relu(self.fc1(x))\n",
        "    x = F.relu(self.fc2(x))\n",
        "    x = self.fc3(x) # no activation on output layer\n",
        "    return x\n",
        "\n",
        "net = Net()"
      ],
      "metadata": {
        "id": "OtTryP2qTaCc"
      },
      "execution_count": 9,
      "outputs": []
    },
    {
      "cell_type": "code",
      "source": [
        "''' Loss computation, Backprop, and Updating weights'''\n",
        "\n",
        "import torch.optim as optim\n",
        "\n",
        "# update weights using optimizer\n",
        "optimizer = optim.SGD(net.parameters(), lr=0.01)\n",
        "criterion = nn.MSELoss()\n",
        "\n",
        "# in training loop\n",
        "x = 3\n",
        "for i in range(x):\n",
        "  net.zero_grad() # clear gradients from previous backprop\n",
        "  out = net(torch.randn(1, 1, 32, 32))\n",
        "  target = torch.randn(10) # dummy target\n",
        "  target = target.view(1, -1) # make it the same shape as output (prepend additional dim)\n",
        "  loss = criterion(out, target)\n",
        "  loss.backward() # backprop\n",
        "  optimizer.step() # does the \n",
        "  print(loss)\n"
      ],
      "metadata": {
        "colab": {
          "base_uri": "https://localhost:8080/"
        },
        "id": "lu0Ez6ONnH3k",
        "outputId": "16147803-0fcc-405b-842c-4d964597aa16"
      },
      "execution_count": 19,
      "outputs": [
        {
          "output_type": "stream",
          "name": "stdout",
          "text": [
            "tensor(1.2069, grad_fn=<MseLossBackward0>)\n",
            "tensor(0.8984, grad_fn=<MseLossBackward0>)\n",
            "tensor(0.5017, grad_fn=<MseLossBackward0>)\n"
          ]
        }
      ]
    },
    {
      "cell_type": "markdown",
      "source": [
        "# Train an image classifier"
      ],
      "metadata": {
        "id": "5hLTDUOPqAe5"
      }
    },
    {
      "cell_type": "markdown",
      "source": [
        "Steps: \n",
        "\n",
        "1.   Load and normalize CIFAR10 training and test datasets\n",
        "2.   Define architecture\n",
        "3.   Define loss function (criterion)\n",
        "4.   Train network on training data\n",
        "5.   Test network on test data"
      ],
      "metadata": {
        "id": "QaMSlN79qO6x"
      }
    },
    {
      "cell_type": "code",
      "source": [
        "import torch\n",
        "import torchvision\n",
        "import torchvision.transforms as transforms"
      ],
      "metadata": {
        "id": "dJdypeGwqC-9"
      },
      "execution_count": 36,
      "outputs": []
    },
    {
      "cell_type": "code",
      "source": [
        "# load CIFAR10 and transform from PIL [0, 1] to tensors [-1, 1]\n",
        "transform = transforms.Compose(\n",
        "    [transforms.ToTensor(), \n",
        "     transforms.Normalize((0.5, 0.5, 0.5), (0.5, 0.5, 0.5))]\n",
        ")\n",
        "\n",
        "batch_size = 8\n",
        "\n",
        "trainset = torchvision.datasets.CIFAR10(root='./data', train=True, \n",
        "                                        download=True, transform=transform)\n",
        "trainloader = torch.utils.data.DataLoader(trainset, batch_size=batch_size, \n",
        "                                          shuffle=True, num_workers=2)\n",
        "testset = torchvision.datasets.CIFAR10(root='./data', train=False, \n",
        "                                       download=True, transform=transform)\n",
        "testloader = torch.utils.data.DataLoader(testset, batch_size=batch_size, \n",
        "                                         shuffle=False, num_workers=2)\n",
        "\n",
        "classes = ('plane', 'car', 'bird', 'cat',\n",
        "           'deer', 'dog', 'frog', 'horse', 'ship', 'truck')"
      ],
      "metadata": {
        "colab": {
          "base_uri": "https://localhost:8080/"
        },
        "id": "R4bpZXwUqq_2",
        "outputId": "8746c392-6c33-4de5-a5bc-1829db573526"
      },
      "execution_count": 37,
      "outputs": [
        {
          "output_type": "stream",
          "name": "stdout",
          "text": [
            "Files already downloaded and verified\n",
            "Files already downloaded and verified\n"
          ]
        }
      ]
    },
    {
      "cell_type": "code",
      "source": [
        "# analyze training images\n",
        "\n",
        "import matplotlib.pyplot as plt\n",
        "\n",
        "def imshow(img): \n",
        "  img = img/2 + 0.5 # unnormalize\n",
        "  npimg = img.numpy()\n",
        "  plt.imshow(np.transpose(npimg, (1, 2, 0)))\n",
        "  plt.show()\n",
        "\n",
        "# get some random training images\n",
        "dataiter = iter(trainloader) # haha iterator like in c++\n",
        "images, labels = dataiter.next()\n",
        "\n",
        "# show images\n",
        "imshow(torchvision.utils.make_grid(images))\n",
        "# print labels\n",
        "print(' '.join(f\"{classes[labels[j]]:5s}\" for j in range(batch_size)))"
      ],
      "metadata": {
        "colab": {
          "base_uri": "https://localhost:8080/",
          "height": 112
        },
        "id": "rTHVFaztrg_Z",
        "outputId": "7e7c1572-9180-4861-970b-806973cd5753"
      },
      "execution_count": 38,
      "outputs": [
        {
          "output_type": "display_data",
          "data": {
            "text/plain": [
              "<Figure size 432x288 with 1 Axes>"
            ],
            "image/png": "[encoded data removed]"
          },
          "metadata": {
            "needs_background": "light"
          }
        },
        {
          "output_type": "stream",
          "name": "stdout",
          "text": [
            "dog   deer  plane frog  car   dog   bird  horse\n"
          ]
        }
      ]
    },
    {
      "cell_type": "code",
      "source": [
        "''' Define Architecture, Batching, and Forward Pass '''\n",
        "\n",
        "import torch\n",
        "import torch.nn as nn\n",
        "import torch.nn.functional as F\n",
        "\n",
        "class Net(nn.Module):\n",
        "\n",
        "  # define layers in ctor\n",
        "  def __init__(self):\n",
        "    super(Net, self).__init__()\n",
        "    \n",
        "    # 1 input image channel (grayscale), 6 output channels, 5x5 square convolution\n",
        "    self.conv1 = nn.Conv2d(3, 16, 5)\n",
        "    self.conv2 = nn.Conv2d(16, 20, 5)\n",
        "    self.fc1 = nn.Linear(20*5*5, 200) # 5x5 from image dimension bc fc is flattened\n",
        "    self.fc2 = nn.Linear(200, 100)\n",
        "    self.fc3 = nn.Linear(100, 10)\n",
        "  \n",
        "  # define forward pass (activation functions), backward prop handled by autograd\n",
        "  def forward(self, x):\n",
        "    # max pooling over a (2, 2) window\n",
        "    x = F.max_pool2d(F.relu(self.conv1(x)), (2, 2))\n",
        "    # if size is square, you can specify with a single number\n",
        "    x = F.max_pool2d(F.relu(self.conv2(x)), 2)\n",
        "    x = torch.flatten(x, 1) # flatten all dim except batch dim\n",
        "    x = F.relu(self.fc1(x))\n",
        "    x = F.relu(self.fc2(x))\n",
        "    x = self.fc3(x) # no activation on output layer\n",
        "    return x\n",
        "\n",
        "net = Net()\n",
        "device = torch.device('cuda:0' if torch.cuda.is_available() else 'cpu')\n",
        "net.to(device)\n",
        "print(device)"
      ],
      "metadata": {
        "colab": {
          "base_uri": "https://localhost:8080/"
        },
        "id": "d5oLPwa_sJOA",
        "outputId": "0edeb6b0-f262-4b18-faee-512ee4c980d7"
      },
      "execution_count": 51,
      "outputs": [
        {
          "output_type": "stream",
          "name": "stdout",
          "text": [
            "cuda:0\n"
          ]
        }
      ]
    },
    {
      "cell_type": "code",
      "source": [
        "import torch.optim as optim\n",
        "\n",
        "criterion = nn.CrossEntropyLoss() \n",
        "optimizer = optim.SGD(net.parameters(), lr=0.001, momentum=0.9)"
      ],
      "metadata": {
        "id": "Qv8AWFUtsjIC"
      },
      "execution_count": 52,
      "outputs": []
    },
    {
      "cell_type": "code",
      "source": [
        "# define train loop\n",
        "losses = []\n",
        "num_epochs = 10\n",
        "for epoch in range(num_epochs):\n",
        "  running_loss = 0.0\n",
        "  for i, data in enumerate(trainloader, 0):\n",
        "    inputs, labels = data\n",
        "\n",
        "    # send data to device\n",
        "    inputs, labels = inputs.to(device), labels.to(device)\n",
        "\n",
        "    # zero parameter gradients\n",
        "    optimizer.zero_grad()\n",
        "\n",
        "    # forward + backward + optimize\n",
        "    outputs = net(inputs)\n",
        "    loss = criterion(outputs, labels)\n",
        "    loss.backward()\n",
        "    optimizer.step()\n",
        "\n",
        "    # print stats of epoch\n",
        "    running_loss += loss.item()\n",
        "    if i % 2000 == 1999: # print every 2000 mini-batches\n",
        "      print(f'[{epoch + 1}, {i + 1:5d}] loss: {running_loss / 2000:.3f}')\n",
        "      losses.append(running_loss)\n",
        "      running_loss = 0.0\n",
        "\n",
        "print('Finished Training')"
      ],
      "metadata": {
        "colab": {
          "base_uri": "https://localhost:8080/"
        },
        "id": "tyvQHT8pssoi",
        "outputId": "0cec9b7c-bfb6-4d6e-8ad0-d0efcc902ee6"
      },
      "execution_count": 53,
      "outputs": [
        {
          "output_type": "stream",
          "name": "stdout",
          "text": [
            "[1,  2000] loss: 2.091\n",
            "[1,  4000] loss: 1.689\n",
            "[1,  6000] loss: 1.528\n",
            "[2,  2000] loss: 1.409\n",
            "[2,  4000] loss: 1.327\n",
            "[2,  6000] loss: 1.279\n",
            "[3,  2000] loss: 1.193\n",
            "[3,  4000] loss: 1.152\n",
            "[3,  6000] loss: 1.140\n",
            "[4,  2000] loss: 1.055\n",
            "[4,  4000] loss: 1.023\n",
            "[4,  6000] loss: 1.023\n",
            "[5,  2000] loss: 0.953\n",
            "[5,  4000] loss: 0.940\n",
            "[5,  6000] loss: 0.922\n",
            "[6,  2000] loss: 0.846\n",
            "[6,  4000] loss: 0.866\n",
            "[6,  6000] loss: 0.860\n",
            "[7,  2000] loss: 0.780\n",
            "[7,  4000] loss: 0.793\n",
            "[7,  6000] loss: 0.797\n",
            "[8,  2000] loss: 0.708\n",
            "[8,  4000] loss: 0.736\n",
            "[8,  6000] loss: 0.753\n",
            "[9,  2000] loss: 0.664\n",
            "[9,  4000] loss: 0.680\n",
            "[9,  6000] loss: 0.691\n",
            "[10,  2000] loss: 0.599\n",
            "[10,  4000] loss: 0.644\n",
            "[10,  6000] loss: 0.642\n",
            "Finished Training\n"
          ]
        }
      ]
    },
    {
      "cell_type": "code",
      "source": [
        "import matplotlib.pyplot as plt\n",
        "plt.plot(losses)"
      ],
      "metadata": {
        "colab": {
          "base_uri": "https://localhost:8080/",
          "height": 282
        },
        "id": "1Hti80XFztGg",
        "outputId": "a254ca97-7087-4fef-9711-aea991cab6b0"
      },
      "execution_count": 54,
      "outputs": [
        {
          "output_type": "execute_result",
          "data": {
            "text/plain": [
              "[<matplotlib.lines.Line2D at 0x7fbdaba6f8d0>]"
            ]
          },
          "metadata": {},
          "execution_count": 54
        },
        {
          "output_type": "display_data",
          "data": {
            "text/plain": [
              "<Figure size 432x288 with 1 Axes>"
            ],
            "image/png": "[encoded data removed]"
          },
          "metadata": {
            "needs_background": "light"
          }
        }
      ]
    },
    {
      "cell_type": "code",
      "source": [
        "# save model \n",
        "PATH = './cifar_net.pth'\n",
        "torch.save(net.state_dict(), PATH)"
      ],
      "metadata": {
        "id": "2zqjOKVNuT4g"
      },
      "execution_count": 55,
      "outputs": []
    },
    {
      "cell_type": "code",
      "source": [
        "''' test model '''\n",
        "dataiter = iter(testloader) # define dataloader iterator\n",
        "images, labels = dataiter.next()\n",
        "\n",
        "# print images\n",
        "imshow(torchvision.utils.make_grid(images))\n",
        "print('GroundTruth: ', ' '.join(f'{classes[labels[j]]:5s}' for j in range(8)))\n",
        "\n",
        "net = Net()\n",
        "net.load_state_dict(torch.load(PATH))"
      ],
      "metadata": {
        "colab": {
          "base_uri": "https://localhost:8080/",
          "height": 130
        },
        "id": "54456ffNuZCG",
        "outputId": "ef8e5bf2-21f7-4b7e-8315-9cb432fc3156"
      },
      "execution_count": 56,
      "outputs": [
        {
          "output_type": "display_data",
          "data": {
            "text/plain": [
              "<Figure size 432x288 with 1 Axes>"
            ],
            "image/png": "[encoded data removed]"
          },
          "metadata": {
            "needs_background": "light"
          }
        },
        {
          "output_type": "stream",
          "name": "stdout",
          "text": [
            "GroundTruth:  cat   ship  ship  plane frog  frog  car   frog \n"
          ]
        },
        {
          "output_type": "execute_result",
          "data": {
            "text/plain": [
              "<All keys matched successfully>"
            ]
          },
          "metadata": {},
          "execution_count": 56
        }
      ]
    },
    {
      "cell_type": "code",
      "source": [
        "outputs = net(images)\n",
        "_, predicted = torch.max(outputs, 1)\n",
        "\n",
        "print('Predict: ', ' '.join(f'{classes[predicted[j]]:5s}' for j in range(8)))"
      ],
      "metadata": {
        "colab": {
          "base_uri": "https://localhost:8080/"
        },
        "id": "54ici1B_u31j",
        "outputId": "1bc40c4a-8659-436b-b256-0241cdfa62a5"
      },
      "execution_count": 57,
      "outputs": [
        {
          "output_type": "stream",
          "name": "stdout",
          "text": [
            "Predict:  dog   ship  truck plane deer  frog  frog  frog \n"
          ]
        }
      ]
    },
    {
      "cell_type": "code",
      "source": [
        "# assess on entire dataset\n",
        "correct = 0\n",
        "total = 0\n",
        "# since we're eval, don't neet to calc gradients for outputs\n",
        "with torch.no_grad():\n",
        "  for i, data in enumerate(testloader):\n",
        "    images, labels = data\n",
        "\n",
        "    # calc outputs by running forward pass\n",
        "    outputs = net(images)\n",
        "    \n",
        "    #class with highest prob is what we choose as prediction\n",
        "    _, predicted = torch.max(outputs.data, 1)\n",
        "    total += labels.size(0)\n",
        "    correct += (predicted == labels).sum().item()\n",
        "\n",
        "print(f'Accuracy of the network on the 10000 test images: {100 * correct // total} %')"
      ],
      "metadata": {
        "colab": {
          "base_uri": "https://localhost:8080/"
        },
        "id": "Yj9B6XlOwDHt",
        "outputId": "c968fe09-d177-4ca9-a39b-dd23bd7dd20d"
      },
      "execution_count": 58,
      "outputs": [
        {
          "output_type": "stream",
          "name": "stdout",
          "text": [
            "Accuracy of the network on the 10000 test images: 69 %\n"
          ]
        }
      ]
    },
    {
      "cell_type": "code",
      "source": [
        "# prepare to count predictions for each class\n",
        "correct_pred = {classname: 0 for classname in classes}\n",
        "total_pred = {classname: 0 for classname in classes}\n",
        "\n",
        "# again no gradients needed\n",
        "with torch.no_grad():\n",
        "    for data in testloader:\n",
        "        images, labels = data\n",
        "        outputs = net(images)\n",
        "        _, predictions = torch.max(outputs, 1)\n",
        "        # collect the correct predictions for each class\n",
        "        for label, prediction in zip(labels, predictions):\n",
        "            if label == prediction:\n",
        "                correct_pred[classes[label]] += 1\n",
        "            total_pred[classes[label]] += 1\n",
        "\n",
        "\n",
        "# print accuracy for each class\n",
        "for classname, correct_count in correct_pred.items():\n",
        "    accuracy = 100 * float(correct_count) / total_pred[classname]\n",
        "    print(f'Accuracy for class: {classname:5s} is {accuracy:.1f} %')"
      ],
      "metadata": {
        "colab": {
          "base_uri": "https://localhost:8080/"
        },
        "id": "lCLcOidnxrTT",
        "outputId": "7d6a173d-aed2-4522-b762-e79de263c3bd"
      },
      "execution_count": 59,
      "outputs": [
        {
          "output_type": "stream",
          "name": "stdout",
          "text": [
            "Accuracy for class: plane is 79.9 %\n",
            "Accuracy for class: car   is 78.6 %\n",
            "Accuracy for class: bird  is 54.3 %\n",
            "Accuracy for class: cat   is 38.9 %\n",
            "Accuracy for class: deer  is 68.7 %\n",
            "Accuracy for class: dog   is 66.0 %\n",
            "Accuracy for class: frog  is 82.1 %\n",
            "Accuracy for class: horse is 69.1 %\n",
            "Accuracy for class: ship  is 78.6 %\n",
            "Accuracy for class: truck is 77.1 %\n"
          ]
        }
      ]
    }
  ]
}